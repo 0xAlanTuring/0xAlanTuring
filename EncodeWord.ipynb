{
  "nbformat": 4,
  "nbformat_minor": 0,
  "metadata": {
    "colab": {
      "name": "EncodeWord.ipynb",
      "provenance": [],
      "collapsed_sections": []
    },
    "kernelspec": {
      "name": "python3",
      "display_name": "Python 3"
    },
    "language_info": {
      "name": "python"
    }
  },
  "cells": [
    {
      "cell_type": "code",
      "metadata": {
        "id": "9i0iRWXNDTtw"
      },
      "source": [
        "# The following notebook will implment a hash function for encoding a word or phrase in to a binary output\n",
        "# The input is entered in the second cell in the text input to vorpa(word)\n",
        "# Use lowercase characters as input. No punctuation.\n",
        "# Alternatively, the note book can be opened and run from the following location:\n",
        "# https://colab.research.google.com/drive/1qZuMOfki5PGAXLyDNeV9RiKxxP3ODUN_?usp=sharing\n",
        "\n",
        "class vorpa:\n",
        "    def __init__(self, word):\n",
        "        self.word = word\n",
        "    def cumprod(self):\n",
        "      results = []\n",
        "      cur = 1\n",
        "      for n in self.numbers:\n",
        "          cur *= n\n",
        "          results.append(cur)\n",
        "      return results\n",
        "    def encode(self):\n",
        "        numbers = []\n",
        "        for letter in self.word:\n",
        "            number = ord(letter) - 96\n",
        "            numbers.append(number)\n",
        "        value = -64 # remove spaces\n",
        "        while value in numbers:\n",
        "            numbers.remove(value)\n",
        "        self.numbers = numbers\n",
        "        out = self.cumprod()\n",
        "        out = out[-1] - sum(numbers)**2\n",
        "        if out % 2 == 0: # is even\n",
        "          out = 1\n",
        "        else: # is odd\n",
        "          out = 0\n",
        "        print(out)\n"
      ],
      "execution_count": 1,
      "outputs": []
    },
    {
      "cell_type": "code",
      "metadata": {
        "colab": {
          "base_uri": "https://localhost:8080/"
        },
        "id": "OS80E_P6DafR",
        "outputId": "384f8d56-4384-4615-bfbf-c56d78a1aa03"
      },
      "source": [
        "p = vorpa('alan turning')\n",
        "p.encode()"
      ],
      "execution_count": 2,
      "outputs": [
        {
          "output_type": "stream",
          "text": [
            "0\n"
          ],
          "name": "stdout"
        }
      ]
    }
  ]
}